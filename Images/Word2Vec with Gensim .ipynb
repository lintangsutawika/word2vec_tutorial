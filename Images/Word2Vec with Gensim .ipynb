{
 "cells": [
  {
   "cell_type": "code",
   "execution_count": 1,
   "metadata": {},
   "outputs": [],
   "source": [
    "def getTweetData(self, toFeed, filename=\"MoreTweets.tsv\"):\n",
    "        #Gain large corpus of tweets\n",
    "        rawSentence = []\n",
    "        with open(\"Datasets/\"+filename, 'rU') as csvfile:\n",
    "            spamreader = csv.reader(csvfile, delimiter='\\n', quotechar='|')\n",
    "            for spam in spamreader:\n",
    "                rawSentence.append(spam)\n",
    "\n",
    "        corpusSentence =[]\n",
    "        for individualSentence in rawSentence:\n",
    "            if individualSentence == []:\n",
    "                pass\n",
    "            else:\n",
    "                corpusSentence.append(individualSentence[0])\n",
    "\n",
    "        # corpusSentence = self.text.removeAll(corpusSentence)\n",
    "        corpusSentence = self.text.corpus2BIO(mode=self.mode, corpus=corpusSentence)[0]\n",
    "\n",
    "        for sentences in corpusSentence:\n",
    "            # token = nltk.wordpunct_tokenize(sentences.lower())\n",
    "            toFeed.append(sentences)\n",
    "\n",
    "        return toFeed"
   ]
  },
  {
   "cell_type": "code",
   "execution_count": null,
   "metadata": {},
   "outputs": [],
   "source": [
    "def getWord2Vec(self, toFeed, dim=50):\n",
    "    dimension = dim\n",
    "    corpusTweet = toFeed\n",
    "    word2vec = gensim.models.Word2Vec(corpusTweet, min_count=1,  size=dimension)\n",
    "\n",
    "    return word2vec"
   ]
  },
  {
   "cell_type": "code",
   "execution_count": null,
   "metadata": {},
   "outputs": [],
   "source": [
    "model = gensim.models.Word2Vec(corpusTweet, min_count=1,  size=dimension)"
   ]
  },
  {
   "cell_type": "code",
   "execution_count": null,
   "metadata": {},
   "outputs": [],
   "source": [
    "model.wv['computer']"
   ]
  },
  {
   "cell_type": "code",
   "execution_count": null,
   "metadata": {},
   "outputs": [],
   "source": [
    "model.wv.most_similar(positive=['woman', 'king'], negative=['man'])"
   ]
  },
  {
   "cell_type": "code",
   "execution_count": null,
   "metadata": {},
   "outputs": [],
   "source": [
    "model.wv.similarity('woman', 'man')"
   ]
  },
  {
   "cell_type": "code",
   "execution_count": null,
   "metadata": {},
   "outputs": [],
   "source": [
    "model.wv.doesnt_match(\"breakfast cereal dinner lunch\".split())"
   ]
  },
  {
   "cell_type": "code",
   "execution_count": null,
   "metadata": {},
   "outputs": [],
   "source": [
    "model.score([\"The fox jumped over a lazy dog\".split()])"
   ]
  }
 ],
 "metadata": {
  "kernelspec": {
   "display_name": "Python 3",
   "language": "python",
   "name": "python3"
  },
  "language_info": {
   "codemirror_mode": {
    "name": "ipython",
    "version": 3
   },
   "file_extension": ".py",
   "mimetype": "text/x-python",
   "name": "python",
   "nbconvert_exporter": "python",
   "pygments_lexer": "ipython3",
   "version": "3.6.4"
  }
 },
 "nbformat": 4,
 "nbformat_minor": 2
}
