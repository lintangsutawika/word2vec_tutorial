{
 "cells": [
  {
   "cell_type": "code",
   "execution_count": 74,
   "metadata": {},
   "outputs": [],
   "source": [
    "import re\n",
    "import gensim\n",
    "import nltk"
   ]
  },
  {
   "cell_type": "code",
   "execution_count": 29,
   "metadata": {},
   "outputs": [],
   "source": [
    "def renameUser(corpus):\n",
    "        _new = []      \n",
    "        for _temp in corpus:\n",
    "            _temp =  re.sub( r'(^|[^@\\w])@(\\w{1,15})\\b','',_temp)\n",
    "            _new.append(_temp)\n",
    "\n",
    "        return _new\n",
    "    \n",
    "def removeEnamex(corpus):\n",
    "    _new = []\n",
    "    for _temp in corpus:\n",
    "        _temp =  re.sub( r'</ENAMEX>',' ',_temp)\n",
    "        for type in self.Types:\n",
    "            _temp =  re.sub( r'<ENAMEX TYPE=\"{}\">'.format(type),' ',_temp)\n",
    "        _new.append(_temp)\n",
    "\n",
    "    return _new\n",
    "\n",
    "def addSpacingEnamex(corpus):\n",
    "    _new = []\n",
    "    for _temp in corpus:\n",
    "        _temp =  re.sub( r'</ENAMEX>',' _ENAMEX ',_temp)\n",
    "        for type in self.Types:\n",
    "            _temp =  re.sub( r'<ENAMEX TYPE=\\\"{}\\\">'.format(type),'TYPE_{}_'.format(type),_temp)\n",
    "        _new.append(_temp)\n",
    "\n",
    "    return _new\n",
    "\n",
    "def removeHashtag(corpus):\n",
    "    _new = []\n",
    "    for _temp in corpus:\n",
    "        _temp = re.sub(r'#(\\w+)', '', _temp)\n",
    "        _new.append(_temp)\n",
    "\n",
    "    return _new\n",
    "\n",
    "def removeURL(corpus):\n",
    "    #https://support.twitter.com/articles/78124\n",
    "    _new = []\n",
    "    for _temp in corpus:\n",
    "        _temp = re.sub(r'http:\\S+', '', _temp, flags=re.MULTILINE)\n",
    "        _temp = re.sub(r'https:\\S+', '', _temp, flags=re.MULTILINE)\n",
    "        _new.append(_temp)\n",
    "\n",
    "    return _new\n",
    "\n",
    "def removeEmoticon(corpus):\n",
    "    #https://support.twitter.com/articles/78124\n",
    "    _new = []\n",
    "    emoticons_str = r\"(?:[:=;B\\-][oO\\\"\\_\\-]?[\\-D\\)\\]\\(\\]/\\\\Op3]{2,3})\"\n",
    "    for _temp in corpus:\n",
    "        _temp.replace(emoticons_str, '')\n",
    "        _temp = re.sub(r'[^\\x00-\\x7F]', '', _temp)\n",
    "        _new.append(_temp)\n",
    "\n",
    "    return _new"
   ]
  },
  {
   "cell_type": "code",
   "execution_count": 30,
   "metadata": {},
   "outputs": [],
   "source": [
    "import csv\n",
    "\n",
    "def getTweetData(toFeed, filename=\"dataset/Indonesian_Tweets.tsv\"):\n",
    "        #Gain large corpus of tweets\n",
    "        rawSentence = []\n",
    "        with open(filename, 'rU') as csvfile:\n",
    "            spamreader = csv.reader(csvfile, delimiter='\\n', quotechar='|')\n",
    "            for spam in spamreader:\n",
    "                rawSentence.append(spam)\n",
    "\n",
    "        corpusSentence =[]\n",
    "        for individualSentence in rawSentence:\n",
    "            if individualSentence == []:\n",
    "                pass\n",
    "            else:\n",
    "                corpusSentence.append(individualSentence[0])\n",
    "\n",
    "        # corpusSentence = self.text.removeAll(corpusSentence)\n",
    "#         corpusSentence = text.corpus2BIO(mode=self.mode, corpus=corpusSentence)[0]\n",
    "        _temp = removeURL(corpusSentence)\n",
    "        _temp = renameUser(_temp)\n",
    "        _temp = removeHashtag(_temp)\n",
    "        _temp = removeEmoticon(_temp)\n",
    "\n",
    "        for sentences in _temp:\n",
    "            token = nltk.wordpunct_tokenize(sentences.lower())\n",
    "            toFeed.append(token)\n",
    "\n",
    "        return toFeed"
   ]
  },
  {
   "cell_type": "code",
   "execution_count": 32,
   "metadata": {},
   "outputs": [
    {
     "name": "stderr",
     "output_type": "stream",
     "text": [
      "/home/lintang/anaconda3/lib/python3.6/site-packages/ipykernel_launcher.py:6: DeprecationWarning: 'U' mode is deprecated\n",
      "  \n"
     ]
    },
    {
     "data": {
      "text/plain": [
       "'Bapak ini tetap melakukan aktivitasnya tanpa memperdulikan kabut asap. Semua demi keluarga yang ingin ia lindungi. '"
      ]
     },
     "execution_count": 32,
     "metadata": {},
     "output_type": "execute_result"
    }
   ],
   "source": [
    "a= []\n",
    "a = getTweetData(toFeed = a)\n",
    "a[1]"
   ]
  },
  {
   "cell_type": "code",
   "execution_count": 75,
   "metadata": {},
   "outputs": [
    {
     "data": {
      "text/plain": [
       "['Kejar',\n",
       " 'Investasi',\n",
       " 'Infrastruktur',\n",
       " ',',\n",
       " 'BKPM',\n",
       " 'Andalkan',\n",
       " 'OBOR',\n",
       " 'dengan',\n",
       " 'Target',\n",
       " 'Rp80',\n",
       " 'Triliun']"
      ]
     },
     "execution_count": 75,
     "metadata": {},
     "output_type": "execute_result"
    }
   ],
   "source": [
    "nltk.wordpunct_tokenize(a[0])"
   ]
  },
  {
   "cell_type": "code",
   "execution_count": 40,
   "metadata": {},
   "outputs": [],
   "source": [
    "def getWord2Vec(self, toFeed, dim=50):\n",
    "    dimension = dim\n",
    "    corpusTweet = toFeed\n",
    "    word2vec = gensim.models.Word2Vec(corpusTweet, min_count=1,  size=dimension)\n",
    "\n",
    "    return word2vec"
   ]
  },
  {
   "cell_type": "code",
   "execution_count": 69,
   "metadata": {},
   "outputs": [],
   "source": [
    "corpusTweet = a\n",
    "dimension = 50\n",
    "model = gensim.models.Word2Vec([a[0].split()], min_count=1,  size=dimension)"
   ]
  },
  {
   "cell_type": "code",
   "execution_count": 71,
   "metadata": {},
   "outputs": [
    {
     "data": {
      "text/plain": [
       "array([ 0.00922657,  0.00680523,  0.00789073,  0.00692927, -0.00216228,\n",
       "        0.00193418,  0.00898573,  0.00083796, -0.0030192 , -0.00037941,\n",
       "        0.00468424,  0.00871077, -0.00970162,  0.00441998,  0.00273439,\n",
       "        0.00693116, -0.00081196,  0.00674199, -0.00388824, -0.00854189,\n",
       "       -0.00400103, -0.00566732,  0.00193171, -0.00835058, -0.00894748,\n",
       "        0.00325744, -0.00168348,  0.00983639,  0.00172233, -0.00223016,\n",
       "        0.00947953,  0.00069009,  0.00115168, -0.00680324,  0.00321934,\n",
       "       -0.00563177, -0.00605268, -0.00445355,  0.00956326,  0.00874771,\n",
       "       -0.00978739,  0.00169633,  0.00604498,  0.00149245, -0.00847721,\n",
       "        0.00159892, -0.00939268, -0.00827358,  0.00939256, -0.00880736],\n",
       "      dtype=float32)"
      ]
     },
     "execution_count": 71,
     "metadata": {},
     "output_type": "execute_result"
    }
   ],
   "source": [
    "model.wv['K']"
   ]
  },
  {
   "cell_type": "code",
   "execution_count": null,
   "metadata": {},
   "outputs": [],
   "source": [
    "model.wv.most_similar(positive=['woman', 'king'], negative=['man'])"
   ]
  },
  {
   "cell_type": "code",
   "execution_count": null,
   "metadata": {},
   "outputs": [],
   "source": [
    "model.wv.similarity('woman', 'man')"
   ]
  },
  {
   "cell_type": "code",
   "execution_count": null,
   "metadata": {},
   "outputs": [],
   "source": [
    "model.wv.doesnt_match(\"breakfast cereal dinner lunch\".split())"
   ]
  },
  {
   "cell_type": "code",
   "execution_count": null,
   "metadata": {},
   "outputs": [],
   "source": [
    "model.score([\"The fox jumped over a lazy dog\".split()])"
   ]
  }
 ],
 "metadata": {
  "kernelspec": {
   "display_name": "Python 3",
   "language": "python",
   "name": "python3"
  },
  "language_info": {
   "codemirror_mode": {
    "name": "ipython",
    "version": 3
   },
   "file_extension": ".py",
   "mimetype": "text/x-python",
   "name": "python",
   "nbconvert_exporter": "python",
   "pygments_lexer": "ipython3",
   "version": "3.6.4"
  }
 },
 "nbformat": 4,
 "nbformat_minor": 2
}
