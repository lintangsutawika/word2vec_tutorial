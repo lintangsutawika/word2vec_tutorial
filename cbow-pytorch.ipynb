{
 "cells": [
  {
   "cell_type": "markdown",
   "metadata": {},
   "source": [
    "# <center>Implementasi CBOW Dengan Pytorch</center>\n",
    "<center>Kelas Pengolahan Bahasa Manusia 2017/2018</center>\n",
    "<center>Lintang Adyuta Sutawika</center>"
   ]
  },
  {
   "cell_type": "markdown",
   "metadata": {},
   "source": [
    "Tutorial ini akan membahas mengenai implementasi model Continous Bag-of-Words dengan menggunakan library PyTorch (https://pytorch.org/). Pytorch memiliki keunggulan berupa sifatnya yang <i>pythonic</i>, artinya, variable dan model PyTorch dapat dengan mudah berintegrasi dengan library python umum lainnya seperti Numpy atau SciPy. "
   ]
  },
  {
   "cell_type": "markdown",
   "metadata": {},
   "source": [
    "# <center>I. Model Word2Vec</center>\n",
    "<img src=\"Images/CBOW_Skip-gram.png\" style=\"width: 800px;\">"
   ]
  },
  {
   "cell_type": "code",
   "execution_count": null,
   "metadata": {},
   "outputs": [],
   "source": [
    "from collections import defaultdict\n",
    "import time\n",
    "import random\n",
    "import torch\n",
    "from torch.autograd import Variable\n",
    "import torch.nn as nn\n",
    "import torch.optim as optim\n",
    "\n",
    "torch.manual_seed(1)\n",
    "\n",
    "CUDA = torch.cuda.is_available()\n",
    "print(\"CUDA: %s\" % CUDA)\n",
    "\n",
    "# Functions to read in the corpus\n",
    "w2i = defaultdict(lambda: len(w2i))\n",
    "t2i = defaultdict(lambda: len(t2i))\n",
    "UNK = w2i[\"<unk>\"]\n",
    "\n",
    "def read_dataset(filename):\n",
    "    with open(filename, \"r\") as f:\n",
    "        for line in f:\n",
    "            tag, words = line.lower().strip().split(\" ||| \")\n",
    "            yield ([w2i[x] for x in words.split(\" \")], t2i[tag])\n",
    "\n",
    "\n",
    "#Baca dataset\n",
    "train = list(read_dataset(\"dataset/classes/train.txt\"))\n",
    "w2i = defaultdict(lambda: UNK, w2i)\n",
    "dev = list(read_dataset(\"dataset/classes/dev.txt\"))\n",
    "nwords = len(w2i)\n",
    "ntags = len(t2i)"
   ]
  },
  {
   "cell_type": "markdown",
   "metadata": {},
   "source": [
    "<b>1. Tampilkan array berisi index angka untuk setiap kata yang ada di kalimat \"star wars the force awakens was awesome\":</b>"
   ]
  },
  {
   "cell_type": "code",
   "execution_count": null,
   "metadata": {},
   "outputs": [],
   "source": [
    "#koding di sini"
   ]
  },
  {
   "cell_type": "code",
   "execution_count": null,
   "metadata": {
    "collapsed": true
   },
   "outputs": [],
   "source": [
    "#Pembuatan batch\n",
    "def preprocess(batch):\n",
    "    \"\"\" Add zero-padding to a batch. \"\"\"\n",
    "\n",
    "    tags = [example.tag for example in batch]\n",
    "\n",
    "    # add zero-padding to make all sequences equally long\n",
    "    seqs = [example.words for example in batch]\n",
    "    max_length = max(map(len, seqs))\n",
    "    seqs = [seq + [PAD] * (max_length - len(seq)) for seq in seqs]\n",
    "\n",
    "    return seqs, tags"
   ]
  },
  {
   "cell_type": "code",
   "execution_count": null,
   "metadata": {
    "collapsed": true
   },
   "outputs": [],
   "source": [
    "#Model Bag-of-Words\n",
    "class CBOW(nn.Module):\n",
    "\n",
    "    def __init__(self, vocab_size, embedding_dim, output_dim):\n",
    "        super(CBOW, self).__init__()\n",
    "        self.embeddings = nn.Embedding(vocab_size, embedding_dim)\n",
    "        self.linear = nn.Linear(embedding_dim, output_dim)\n",
    "\n",
    "    def forward(self, inputs):\n",
    "        embeds = self.embeddings(inputs)\n",
    "        bow = torch.sum(embeds, 1)\n",
    "        logits = self.linear(bow)\n",
    "        return logits"
   ]
  },
  {
   "cell_type": "code",
   "execution_count": null,
   "metadata": {},
   "outputs": [],
   "source": [
    "model = CBOW(nwords, 64, ntags)\n",
    "\n",
    "#Pindahkan model ke GPU apabila tersedia\n",
    "if CUDA:\n",
    "    model.cuda()\n",
    "    \n",
    "print(model)"
   ]
  },
  {
   "cell_type": "code",
   "execution_count": null,
   "metadata": {
    "collapsed": true
   },
   "outputs": [],
   "source": [
    "def evaluate(model, data):\n",
    "    \"\"\"Evaluate a model on a data set.\"\"\"\n",
    "    correct = 0.0\n",
    "    \n",
    "    for words, tag in data:\n",
    "        lookup_tensor = Variable(torch.LongTensor([words]))\n",
    "        scores = model(lookup_tensor)\n",
    "        predict = scores.data.numpy().argmax(axis=1)[0]\n",
    "\n",
    "        if predict == tag:\n",
    "            correct += 1\n",
    "\n",
    "    return correct, len(data), correct/len(data)"
   ]
  },
  {
   "cell_type": "code",
   "execution_count": null,
   "metadata": {},
   "outputs": [],
   "source": [
    "optimizer = optim.SGD(model.parameters(), lr=0.001)\n",
    "\n",
    "for ITER in range(100):\n",
    "\n",
    "    random.shuffle(train)\n",
    "    train_loss = 0.0\n",
    "    start = time.time()\n",
    "\n",
    "    for words, tag in train:\n",
    "\n",
    "        # forward pass\n",
    "        lookup_tensor = Variable(torch.LongTensor([words]))\n",
    "        scores = model(lookup_tensor)\n",
    "        loss = nn.CrossEntropyLoss()\n",
    "        target = Variable(torch.LongTensor([tag]))\n",
    "        output = loss(scores, target)\n",
    "        train_loss += output.data[0]\n",
    "\n",
    "        # backward pass\n",
    "        model.zero_grad()\n",
    "        output.backward()\n",
    "\n",
    "        # update weights\n",
    "        optimizer.step()\n",
    "\n",
    "    print(\"iter %r: train loss/sent=%.4f, time=%.2fs\" % \n",
    "          (ITER, train_loss/len(train), time.time()-start))\n",
    "\n",
    "    # evaluate\n",
    "    _, _, acc = evaluate(model, dev)\n",
    "    print(\"iter %r: test acc=%.4f\" % (ITER, acc))"
   ]
  },
  {
   "cell_type": "markdown",
   "metadata": {},
   "source": [
    "<b>2. Deeper CBOW. Tambahkan hidden layer, coba bandingkan.</b>"
   ]
  },
  {
   "cell_type": "code",
   "execution_count": null,
   "metadata": {
    "collapsed": true
   },
   "outputs": [],
   "source": [
    "class Deeper_CBOW(nn.Module):\n",
    "\n",
    "    def __init__(self, vocab_size, embedding_dim, output_dim):\n",
    "        super(Deeper_CBOW, self).__init__()\n",
    "\n",
    "    def forward(self, inputs):\n",
    "        pass"
   ]
  },
  {
   "cell_type": "code",
   "execution_count": null,
   "metadata": {
    "collapsed": true
   },
   "outputs": [],
   "source": [
    "#koding di sini"
   ]
  }
 ],
 "metadata": {
  "kernelspec": {
   "display_name": "Python 3",
   "language": "python",
   "name": "python3"
  },
  "language_info": {
   "codemirror_mode": {
    "name": "ipython",
    "version": 3
   },
   "file_extension": ".py",
   "mimetype": "text/x-python",
   "name": "python",
   "nbconvert_exporter": "python",
   "pygments_lexer": "ipython3",
   "version": "3.6.3"
  }
 },
 "nbformat": 4,
 "nbformat_minor": 2
}
