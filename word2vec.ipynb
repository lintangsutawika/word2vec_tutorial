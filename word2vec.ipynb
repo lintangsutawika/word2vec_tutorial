{
 "cells": [
  {
   "cell_type": "markdown",
   "metadata": {},
   "source": [
    "# <center>Word2Vec Tutorial</center>\n",
    "<center>Kelas Pengolahan Bahasa Manusia 2017/2018</center>\n",
    "<center>Lintang Sutawika</center>"
   ]
  },
  {
   "cell_type": "markdown",
   "metadata": {},
   "source": [
    "Tutorial ini membahas tentang word embedding khususnya model Word2Vec. Word2Vec sendiri diperkenalkan oleh [Mikolov et al.](https://arxiv.org/pdf/1301.3781.pdf), pada tahun 2013. Word2vec merupakan salah satu model pemelajaran mesin yang mampu menangkap hubungan perbandingan antara kata tanpa harus diberikan fitur eksplisit. Hal ini dapat tercapai dengan melatih model dengan data yang sangat banyak sehingga model tersebut dapat mempelajari probabilitas bersyarat dari kata-kata tersebut."
   ]
  },
  {
   "cell_type": "markdown",
   "metadata": {},
   "source": [
    "# <center>I. Model Word2Vec</center>\n",
    "<img src=\"Images/CBOW_Skip-gram.png\" style=\"width: 700px;\">"
   ]
  },
  {
   "cell_type": "markdown",
   "metadata": {},
   "source": [
    "Contoh input data untuk pelatihan serta output yang diharapkan dari model.\n",
    "<img src=\"Images/training_data.png\" style=\"width: 500px;\">"
   ]
  },
  {
   "cell_type": "code",
   "execution_count": 1,
   "metadata": {
    "collapsed": true
   },
   "outputs": [],
   "source": [
    "import re\n",
    "import gensim\n",
    "import nltk\n",
    "from twitterData import getTweetData"
   ]
  },
  {
   "cell_type": "code",
   "execution_count": 2,
   "metadata": {
    "collapsed": true
   },
   "outputs": [],
   "source": [
    "#Fungsi untuk membangun model Word2Vec\n",
    "def getWord2Vec(toFeed, dim=50):\n",
    "    return gensim.models.Word2Vec(toFeed, min_count=1,  size=dim)"
   ]
  },
  {
   "cell_type": "code",
   "execution_count": 3,
   "metadata": {},
   "outputs": [],
   "source": [
    "corpus = getTweetData()"
   ]
  },
  {
   "cell_type": "markdown",
   "metadata": {},
   "source": [
    "Lakukan pengecekan terhadap 10 kalimat pertama pada dataset yang telah di proses. (Output dari fungsi getTweetData adalah sebuah array). Print masing-masing array."
   ]
  },
  {
   "cell_type": "code",
   "execution_count": 4,
   "metadata": {
    "collapsed": true
   },
   "outputs": [],
   "source": [
    "#Koding di sini"
   ]
  },
  {
   "cell_type": "markdown",
   "metadata": {},
   "source": [
    "Selanjutnya, model Word2Vec akan dipanggil."
   ]
  },
  {
   "cell_type": "code",
   "execution_count": 5,
   "metadata": {
    "collapsed": true
   },
   "outputs": [],
   "source": [
    "model = getWord2Vec(corpus)"
   ]
  },
  {
   "cell_type": "markdown",
   "metadata": {},
   "source": [
    "<b>1. Tunjukkan vektor dari kata 'raja' gunakan fungsi *.wv['kata']</b>\n",
    "<img src=\"Images/word2vec.png\">"
   ]
  },
  {
   "cell_type": "code",
   "execution_count": null,
   "metadata": {
    "collapsed": true
   },
   "outputs": [],
   "source": [
    "#Koding di sini"
   ]
  },
  {
   "cell_type": "markdown",
   "metadata": {},
   "source": [
    "<b>2. Implementasi Fungsi yang membandingkan kemiripan dua buah vektor kata. Gunakan rumus cosine similarity.</b>\n",
    "<img src=\"Images/Dot_Product.png\">\n",
    "<center><img src=\"Images/similarity.svg\"></center>"
   ]
  },
  {
   "cell_type": "code",
   "execution_count": null,
   "metadata": {
    "collapsed": true
   },
   "outputs": [],
   "source": [
    "#Koding di sini\n",
    "def similarity(arg):\n",
    "    pass"
   ]
  },
  {
   "cell_type": "markdown",
   "metadata": {},
   "source": [
    "<b>3. Seberapa dekatkah kata 'raja' dengan 'presiden' atau dengan 'pemimpin'?</b>"
   ]
  },
  {
   "cell_type": "code",
   "execution_count": null,
   "metadata": {
    "collapsed": true
   },
   "outputs": [],
   "source": [
    "#Koding di sini"
   ]
  },
  {
   "cell_type": "code",
   "execution_count": null,
   "metadata": {
    "collapsed": true
   },
   "outputs": [],
   "source": [
    "model.wv.most_similar(positive=['makanan', 'minuman'], negative=['makan'])"
   ]
  },
  {
   "cell_type": "markdown",
   "metadata": {},
   "source": [
    "# Gensim built-in Funtions\n",
    "<center><img src=\"Images/gensim_function.png\"></center>"
   ]
  },
  {
   "cell_type": "markdown",
   "metadata": {},
   "source": [
    "# Composition\n",
    "Salah satu fenomena menarik dari Word2Vec adalah kemampuan model dalam menangkap relasi antar kata. Hal ini dikarenakan embedding sebuah kata yang tadinya one-hot vector menjadi vektor padat.\n",
    "\n",
    "\n",
    "<img src=\"Images/Word_pair_relationships.png\" style=\"width: 700px;\"/>\n",
    "\n",
    "Karena vektor kata-kata, sebuah operasi aritmatika dapat digunakan untuk mencari relasi tersebut. Hal ini dapat dilihat dari contoh di bawah. Ternyata, apabila vektor \"king\" dikurangi vektor \"man\" lalu ditambahkan vektor \"woman\", hasilnya adalah sebuah vektor yang paling dekat dengan vektor \"queen\".\n",
    "\n",
    "<center><img src=\"Images/composition.png\"></center>\n",
    "<b>4. Bagaimana jika vektor 'indonesia' dikurangi vektor 'presiden' lalu ditambah dengan 'gubernur'?</b>"
   ]
  },
  {
   "cell_type": "code",
   "execution_count": null,
   "metadata": {
    "collapsed": true
   },
   "outputs": [],
   "source": [
    "#Gunakan fungsi *.wv.most_similar(positive=[array], negative=[array])\n",
    "#Koding di sini"
   ]
  },
  {
   "cell_type": "markdown",
   "metadata": {},
   "source": [
    "<tr>\n",
    "<center>\n",
    "    <td> <center><img src=\"Images/sarapan.jpg\" alt=\"Drawing\" style=\"width: 250px;\"/> </center></td>\n",
    "    <td> <center><img src=\"Images/sendok.jpg\" alt=\"Drawing\" style=\"width: 250px;\"/> </center></td>\n",
    "    <td> <center><img src=\"Images/garpu.png\" alt=\"Drawing\" style=\"width: 250px;\"/> </center></td>\n",
    "    <td> <center><img src=\"Images/gelas.jpg\" alt=\"Drawing\" style=\"width: 250px;\"/> </center></td>\n",
    "<center>\n",
    "</tr>"
   ]
  },
  {
   "cell_type": "markdown",
   "metadata": {},
   "source": [
    "<b>5. Manakah diantara keempat objek ini yang paling tidak berhubungan menurut model word2vec?</b>"
   ]
  },
  {
   "cell_type": "code",
   "execution_count": null,
   "metadata": {
    "collapsed": true
   },
   "outputs": [],
   "source": [
    "#Gunakan fungsi *.wv.doesnt_match(array)\n",
    "#Koding di sini"
   ]
  }
 ],
 "metadata": {
  "kernelspec": {
   "display_name": "Python 3",
   "language": "python",
   "name": "python3"
  },
  "language_info": {
   "codemirror_mode": {
    "name": "ipython",
    "version": 3
   },
   "file_extension": ".py",
   "mimetype": "text/x-python",
   "name": "python",
   "nbconvert_exporter": "python",
   "pygments_lexer": "ipython3",
   "version": "3.6.3"
  }
 },
 "nbformat": 4,
 "nbformat_minor": 2
}
