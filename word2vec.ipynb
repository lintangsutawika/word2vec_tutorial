{
 "cells": [
  {
   "cell_type": "markdown",
   "metadata": {},
   "source": [
    "# <center>Word2Vec Tutorial</center>\n",
    "<center>Kelas Pengolahan Bahasa Manusia 2017/2018</center>\n",
    "<center>Lintang Adyuta Sutawika</center>"
   ]
  },
  {
   "cell_type": "markdown",
   "metadata": {},
   "source": [
    "Tutorial ini membahas tentang word embedding khususnya model word2vec. Word2vec sendiri diperkenalkan oleh Mikolov et. al. pada tahun 2013. Word2vec merupakan salah satu model pemelajaran mesin yang mampu menangkap hubungan perbandingan antara kata tanpa harus diberikan fitur eksplisit. Hal ini dapat tercapai dengan melatih model dengan data yang sangat banyak sehingga model tersebut dapat mempelajari probabilitas bersyarat dari kata-kata tersebut."
   ]
  },
  {
   "cell_type": "markdown",
   "metadata": {},
   "source": [
    "<img src=\"Images/CBOW_Skip-gram.png\" style=\"width: 800px;\">"
   ]
  },
  {
   "cell_type": "markdown",
   "metadata": {},
   "source": [
    "Contoh input data untuk pelatihan serta output yang diharapkan dari model.\n",
    "<img src=\"Images/training_data.png\">"
   ]
  },
  {
   "cell_type": "markdown",
   "metadata": {},
   "source": [
    "<img src=\"Images/Word_pair_relationships.png\" style=\"width: 1000px;\"/>"
   ]
  },
  {
   "cell_type": "code",
   "execution_count": 9,
   "metadata": {},
   "outputs": [],
   "source": [
    "import re\n",
    "import gensim\n",
    "import nltk"
   ]
  },
  {
   "cell_type": "markdown",
   "metadata": {},
   "source": [
    "Pertama: pra-pemrosesan terhadap tweet, hilangkan username, hashtag, url dan emoji."
   ]
  },
  {
   "cell_type": "code",
   "execution_count": 10,
   "metadata": {},
   "outputs": [],
   "source": [
    "def renameUser(corpus):\n",
    "        _new = []      \n",
    "        for _temp in corpus:\n",
    "            _temp =  re.sub( r'(^|[^@\\w])@(\\w{1,15})\\b','',_temp)\n",
    "            _new.append(_temp)\n",
    "\n",
    "        return _new\n",
    "\n",
    "def removeHashtag(corpus):\n",
    "    _new = []\n",
    "    for _temp in corpus:\n",
    "        _temp = re.sub(r'#(\\w+)', '', _temp)\n",
    "        _new.append(_temp)\n",
    "\n",
    "    return _new\n",
    "\n",
    "def removeURL(corpus):\n",
    "    _new = []\n",
    "    for _temp in corpus:\n",
    "        _temp = re.sub(r'http:\\S+', '', _temp, flags=re.MULTILINE)\n",
    "        _temp = re.sub(r'https:\\S+', '', _temp, flags=re.MULTILINE)\n",
    "        _new.append(_temp)\n",
    "\n",
    "    return _new\n",
    "\n",
    "def removeEmoticon(corpus):\n",
    "    _new = []\n",
    "    emoticons_str = r\"(?:[:=;B\\-][oO\\\"\\_\\-]?[\\-D\\)\\]\\(\\]/\\\\Op3]{2,3})\"\n",
    "    for _temp in corpus:\n",
    "        _temp.replace(emoticons_str, '')\n",
    "        _temp = re.sub(r'[^\\x00-\\x7F]', '', _temp)\n",
    "        _new.append(_temp)\n",
    "\n",
    "    return _new"
   ]
  },
  {
   "cell_type": "code",
   "execution_count": 11,
   "metadata": {},
   "outputs": [],
   "source": [
    "import csv\n",
    "\n",
    "def getTweetData(filename=\"dataset/Indonesian_Tweets.tsv\"):\n",
    "        #Gain large corpus of tweets\n",
    "        toFeed = []\n",
    "        rawSentence = []\n",
    "        with open(filename, 'rU') as csvfile:\n",
    "            spamreader = csv.reader(csvfile, delimiter='\\n', quotechar='|')\n",
    "            for spam in spamreader:\n",
    "                rawSentence.append(spam)\n",
    "\n",
    "        corpusSentence =[]\n",
    "        for individualSentence in rawSentence:\n",
    "            if individualSentence == []:\n",
    "                pass\n",
    "            else:\n",
    "                corpusSentence.append(individualSentence[0])\n",
    "\n",
    "        _temp = removeURL(corpusSentence)\n",
    "        _temp = renameUser(_temp)\n",
    "        _temp = removeHashtag(_temp)\n",
    "        _temp = removeEmoticon(_temp)\n",
    "\n",
    "        for sentences in _temp:\n",
    "            token = nltk.wordpunct_tokenize(sentences.lower())\n",
    "            toFeed.append(token)\n",
    "\n",
    "        return toFeed"
   ]
  },
  {
   "cell_type": "code",
   "execution_count": 15,
   "metadata": {},
   "outputs": [],
   "source": [
    "def getWord2Vec(toFeed, dim=50):\n",
    "    return gensim.models.Word2Vec(toFeed, min_count=1,  size=dim)"
   ]
  },
  {
   "cell_type": "markdown",
   "metadata": {},
   "source": [
    "Lakukan pengecekan terhadap 10 kalimat pertama pada dataset yang telah di proses. (Output dari fungsi getTweetData adalah sebuah array)"
   ]
  },
  {
   "cell_type": "code",
   "execution_count": 38,
   "metadata": {},
   "outputs": [
    {
     "name": "stderr",
     "output_type": "stream",
     "text": [
      "/home/lintang/anaconda3/lib/python3.6/site-packages/ipykernel_launcher.py:7: DeprecationWarning: 'U' mode is deprecated\n",
      "  import sys\n"
     ]
    }
   ],
   "source": [
    "corpus = getTweetData()\n",
    "model = getWord2Vec(corpus)"
   ]
  },
  {
   "cell_type": "markdown",
   "metadata": {},
   "source": [
    "Tunjukkan vektor dari kata 'raja' gunakan fungsi *.wv['kata']\n",
    "<img src=\"Images/word2vec.png\">"
   ]
  },
  {
   "cell_type": "code",
   "execution_count": 39,
   "metadata": {},
   "outputs": [
    {
     "data": {
      "text/plain": [
       "array([-0.25514695, -0.15566237,  0.05310133,  0.10704625,  0.0473288 ,\n",
       "       -0.10565176, -0.7485233 ,  0.46781865, -0.20523547, -0.05294118,\n",
       "        0.48439175,  0.01012699,  0.07449104, -0.5000201 , -0.09068836,\n",
       "        0.09776992, -0.28746814,  0.61485106, -0.12326465, -0.06156166,\n",
       "        0.15334214,  0.20230545, -0.46344638,  0.45088896,  0.27353722,\n",
       "        0.0915217 ,  0.13914753, -0.03433825,  0.4173159 , -0.27812117,\n",
       "        0.3098348 ,  0.13063599, -0.07655799,  0.27501002,  0.3857099 ,\n",
       "       -0.14225084,  0.08170392, -0.19950192, -0.03212536, -0.15038414,\n",
       "       -0.16231695, -0.22847278, -0.5347864 , -0.31906983,  0.40229946,\n",
       "        0.54658747,  0.21527736, -0.3359916 ,  0.51688844,  0.06668615],\n",
       "      dtype=float32)"
      ]
     },
     "execution_count": 39,
     "metadata": {},
     "output_type": "execute_result"
    }
   ],
   "source": [
    "#Koding di sini\n",
    "model.wv['gelas']"
   ]
  },
  {
   "cell_type": "markdown",
   "metadata": {},
   "source": [
    "Implementasi Fungsi yang membandingkan kemiripan dua buah vektor kata. Gunakan rumus cosine similarity. \n",
    "<img src=\"Images/Dot_Product.png\">\n",
    "<center><img src=\"Images/similarity.svg\"></center>"
   ]
  },
  {
   "cell_type": "code",
   "execution_count": 5,
   "metadata": {},
   "outputs": [],
   "source": [
    "#Koding di sini\n",
    "def similarity(arg):\n",
    "    pass"
   ]
  },
  {
   "cell_type": "markdown",
   "metadata": {},
   "source": [
    "Seberapa dekatkah kata 'raja' dengan 'presiden' atau dengan 'pemimpin'?"
   ]
  },
  {
   "cell_type": "code",
   "execution_count": 6,
   "metadata": {},
   "outputs": [],
   "source": [
    "#Koding di sini"
   ]
  },
  {
   "cell_type": "code",
   "execution_count": 114,
   "metadata": {},
   "outputs": [
    {
     "data": {
      "text/plain": [
       "[('bahan', 0.815974235534668),\n",
       " ('alat', 0.814616858959198),\n",
       " ('merkur', 0.8072130680084229),\n",
       " ('jenis', 0.7932530045509338),\n",
       " ('konsumsi', 0.7894991040229797),\n",
       " ('penghasilan', 0.788066029548645),\n",
       " ('identitas', 0.7792832851409912),\n",
       " ('ponsel', 0.7776226997375488),\n",
       " ('mesin', 0.7699506282806396),\n",
       " ('keuntungan', 0.7630599737167358)]"
      ]
     },
     "execution_count": 114,
     "metadata": {},
     "output_type": "execute_result"
    }
   ],
   "source": [
    "model.wv.most_similar(positive=['makanan', 'minuman'], negative=['makan'])"
   ]
  },
  {
   "cell_type": "markdown",
   "metadata": {},
   "source": [
    "# Gensim built-in Funtions\n",
    "<center><img src=\"Images/gensim_function.png\"></center>"
   ]
  },
  {
   "cell_type": "markdown",
   "metadata": {},
   "source": [
    "# Composition\n",
    "<center><img src=\"Images/composition.png\"></center>\n",
    "Bagaimana jika vektor 'indonesia' dikurangi vektor 'presiden' lalu ditambah dengan 'gubernur'?"
   ]
  },
  {
   "cell_type": "code",
   "execution_count": 37,
   "metadata": {},
   "outputs": [
    {
     "data": {
      "text/plain": [
       "[('jakarta', 0.665157675743103),\n",
       " ('pilgub', 0.6471673250198364),\n",
       " ('dki', 0.6280163526535034),\n",
       " ('jawa', 0.6114922761917114),\n",
       " ('perkembngan', 0.5894886255264282),\n",
       " ('sespibi', 0.5783848762512207),\n",
       " ('cagub', 0.5771750807762146),\n",
       " ('cawagub', 0.5649923086166382),\n",
       " ('erikestrada', 0.556946337223053),\n",
       " ('cabup', 0.556396484375)]"
      ]
     },
     "execution_count": 37,
     "metadata": {},
     "output_type": "execute_result"
    }
   ],
   "source": [
    "#Gunakan fungsi *.wv.most_similar(positive=[array], negative=[array])\n",
    "model.wv.most_similar(positive=['indonesia','gubernur'], negative=['presiden'])"
   ]
  },
  {
   "cell_type": "markdown",
   "metadata": {},
   "source": [
    "<tr>\n",
    "<center>\n",
    "    <td> <center><img src=\"Images/sarapan.jpg\" alt=\"Drawing\" style=\"width: 250px;\"/> </center></td>\n",
    "    <td> <center><img src=\"Images/sendok.jpg\" alt=\"Drawing\" style=\"width: 250px;\"/> </center></td>\n",
    "    <td> <center><img src=\"Images/garpu.png\" alt=\"Drawing\" style=\"width: 250px;\"/> </center></td>\n",
    "    <td> <center><img src=\"Images/gelas.jpg\" alt=\"Drawing\" style=\"width: 250px;\"/> </center></td>\n",
    "<center>\n",
    "</tr>"
   ]
  },
  {
   "cell_type": "code",
   "execution_count": 40,
   "metadata": {},
   "outputs": [],
   "source": [
    "#Gunakan fungsi *.wv.doesnt_match(array)"
   ]
  }
 ],
 "metadata": {
  "kernelspec": {
   "display_name": "Python 3",
   "language": "python",
   "name": "python3"
  },
  "language_info": {
   "codemirror_mode": {
    "name": "ipython",
    "version": 3
   },
   "file_extension": ".py",
   "mimetype": "text/x-python",
   "name": "python",
   "nbconvert_exporter": "python",
   "pygments_lexer": "ipython3",
   "version": "3.6.4"
  }
 },
 "nbformat": 4,
 "nbformat_minor": 2
}
